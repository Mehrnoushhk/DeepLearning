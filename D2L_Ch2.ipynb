{
  "nbformat": 4,
  "nbformat_minor": 0,
  "metadata": {
    "colab": {
      "name": "D2L-Ch2.ipynb",
      "provenance": [],
      "authorship_tag": "ABX9TyNU3VSWG0JR5C9EuNswC2Jh",
      "include_colab_link": true
    },
    "kernelspec": {
      "name": "python3",
      "display_name": "Python 3"
    }
  },
  "cells": [
    {
      "cell_type": "markdown",
      "metadata": {
        "id": "view-in-github",
        "colab_type": "text"
      },
      "source": [
        "<a href=\"https://colab.research.google.com/github/Mehrnoushhk/DeepLearning/blob/master/D2L_Ch2.ipynb\" target=\"_parent\"><img src=\"https://colab.research.google.com/assets/colab-badge.svg\" alt=\"Open In Colab\"/></a>"
      ]
    },
    {
      "cell_type": "code",
      "metadata": {
        "id": "Ffvul8naBRiT"
      },
      "source": [
        "import tensorflow as tf"
      ],
      "execution_count": 5,
      "outputs": []
    },
    {
      "cell_type": "code",
      "metadata": {
        "colab": {
          "base_uri": "https://localhost:8080/"
        },
        "id": "7lmP4PsrBuHu",
        "outputId": "b9ed5d1c-732d-4a07-ebab-7792ada8dc4a"
      },
      "source": [
        "x = tf.range(12)\n",
        "x"
      ],
      "execution_count": 6,
      "outputs": [
        {
          "output_type": "execute_result",
          "data": {
            "text/plain": [
              "<tf.Tensor: shape=(12,), dtype=int32, numpy=array([ 0,  1,  2,  3,  4,  5,  6,  7,  8,  9, 10, 11], dtype=int32)>"
            ]
          },
          "metadata": {
            "tags": []
          },
          "execution_count": 6
        }
      ]
    },
    {
      "cell_type": "code",
      "metadata": {
        "colab": {
          "base_uri": "https://localhost:8080/"
        },
        "id": "jTO0ZWMEB_sY",
        "outputId": "bc13b647-3f47-4e32-c740-ec0bd43a9cc3"
      },
      "source": [
        "print(x.shape)\n",
        "print(tf.size(x))"
      ],
      "execution_count": 14,
      "outputs": [
        {
          "output_type": "stream",
          "text": [
            "(12,)\n",
            "tf.Tensor(12, shape=(), dtype=int32)\n"
          ],
          "name": "stdout"
        }
      ]
    },
    {
      "cell_type": "code",
      "metadata": {
        "colab": {
          "base_uri": "https://localhost:8080/"
        },
        "id": "RoLkDjF0CHHX",
        "outputId": "49f38f99-78a5-46d8-ba92-7cab65d0e56a"
      },
      "source": [
        "X = tf.reshape(x, (3,4))\n",
        "X"
      ],
      "execution_count": 8,
      "outputs": [
        {
          "output_type": "execute_result",
          "data": {
            "text/plain": [
              "<tf.Tensor: shape=(3, 4), dtype=int32, numpy=\n",
              "array([[ 0,  1,  2,  3],\n",
              "       [ 4,  5,  6,  7],\n",
              "       [ 8,  9, 10, 11]], dtype=int32)>"
            ]
          },
          "metadata": {
            "tags": []
          },
          "execution_count": 8
        }
      ]
    },
    {
      "cell_type": "code",
      "metadata": {
        "id": "ChpIUJ7YCUKK",
        "colab": {
          "base_uri": "https://localhost:8080/"
        },
        "outputId": "e601ae16-9420-416d-8c31-ce09d618246b"
      },
      "source": [
        "print(X.shape)\n",
        "print(tf.size(X))"
      ],
      "execution_count": 15,
      "outputs": [
        {
          "output_type": "stream",
          "text": [
            "(3, 4)\n",
            "tf.Tensor(12, shape=(), dtype=int32)\n"
          ],
          "name": "stdout"
        }
      ]
    },
    {
      "cell_type": "code",
      "metadata": {
        "colab": {
          "base_uri": "https://localhost:8080/"
        },
        "id": "2MkycuCfFBdj",
        "outputId": "b2077470-306b-4708-db9e-db3540aa6bab"
      },
      "source": [
        "# Create tensore with initial zeros\n",
        "x = tf.zeros((2,3,4), tf.int32)\n",
        "x"
      ],
      "execution_count": 19,
      "outputs": [
        {
          "output_type": "execute_result",
          "data": {
            "text/plain": [
              "<tf.Tensor: shape=(2, 3, 4), dtype=int32, numpy=\n",
              "array([[[0, 0, 0, 0],\n",
              "        [0, 0, 0, 0],\n",
              "        [0, 0, 0, 0]],\n",
              "\n",
              "       [[0, 0, 0, 0],\n",
              "        [0, 0, 0, 0],\n",
              "        [0, 0, 0, 0]]], dtype=int32)>"
            ]
          },
          "metadata": {
            "tags": []
          },
          "execution_count": 19
        }
      ]
    },
    {
      "cell_type": "code",
      "metadata": {
        "colab": {
          "base_uri": "https://localhost:8080/"
        },
        "id": "cv5FdOjDJYZh",
        "outputId": "6e597f5b-f30c-45fa-e469-e12c58551b60"
      },
      "source": [
        "# Create a tensor with elements randomly selected from a normal distribution with mean 0 and standard deviation of 1\n",
        "x = tf.random.normal((3,4))\n",
        "x"
      ],
      "execution_count": 20,
      "outputs": [
        {
          "output_type": "execute_result",
          "data": {
            "text/plain": [
              "<tf.Tensor: shape=(3, 4), dtype=float32, numpy=\n",
              "array([[-1.2831727 , -1.1601638 ,  1.2917825 , -0.5016219 ],\n",
              "       [ 0.65954065, -0.40403718,  0.65235084,  0.7554147 ],\n",
              "       [-0.81669164,  0.93998396,  0.52293366,  0.17443857]],\n",
              "      dtype=float32)>"
            ]
          },
          "metadata": {
            "tags": []
          },
          "execution_count": 20
        }
      ]
    },
    {
      "cell_type": "code",
      "metadata": {
        "colab": {
          "base_uri": "https://localhost:8080/"
        },
        "id": "A1yWSNCNLJ9q",
        "outputId": "2668db03-ebc1-4af7-9a96-4c03fd992f56"
      },
      "source": [
        "# Concatenate multiple tensors\n",
        "x = tf.reshape( tf.range(12), (3,4))\n",
        "y = tf.constant([ [11, 12], [21, 22], [31, 32]])\n",
        "z = tf.ones((3,3), tf.int32)\n",
        "tf.concat([x , y, z], axis= 1)\n"
      ],
      "execution_count": 26,
      "outputs": [
        {
          "output_type": "execute_result",
          "data": {
            "text/plain": [
              "<tf.Tensor: shape=(3, 9), dtype=int32, numpy=\n",
              "array([[ 0,  1,  2,  3, 11, 12,  1,  1,  1],\n",
              "       [ 4,  5,  6,  7, 21, 22,  1,  1,  1],\n",
              "       [ 8,  9, 10, 11, 31, 32,  1,  1,  1]], dtype=int32)>"
            ]
          },
          "metadata": {
            "tags": []
          },
          "execution_count": 26
        }
      ]
    },
    {
      "cell_type": "code",
      "metadata": {
        "id": "K2lr9F9CNacv"
      },
      "source": [
        ""
      ],
      "execution_count": null,
      "outputs": []
    }
  ]
}