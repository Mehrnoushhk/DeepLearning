{
  "nbformat": 4,
  "nbformat_minor": 0,
  "metadata": {
    "colab": {
      "name": "NewApproach.ipynb",
      "provenance": [],
      "authorship_tag": "ABX9TyMJI6yeDVcjJsiG4/VQP2vn",
      "include_colab_link": true
    },
    "kernelspec": {
      "name": "python3",
      "display_name": "Python 3"
    }
  },
  "cells": [
    {
      "cell_type": "markdown",
      "metadata": {
        "id": "view-in-github",
        "colab_type": "text"
      },
      "source": [
        "<a href=\"https://colab.research.google.com/github/Mehrnoushhk/DeepLearning/blob/master/NewApproach.ipynb\" target=\"_parent\"><img src=\"https://colab.research.google.com/assets/colab-badge.svg\" alt=\"Open In Colab\"/></a>"
      ]
    },
    {
      "cell_type": "code",
      "metadata": {
        "id": "FaG0pfGMh8td",
        "colab_type": "code",
        "colab": {},
        "tags": []
      },
      "source": [
        "import pandas as pd\n",
        "import numpy as np\n",
        "import datetime\n",
        "import mplfinance as mpl\n",
        "import DataCleaner\n",
        "from IPython.display import clear_output\n",
        "from DataCleaner import dataCleaner\n",
        "from DataCleaner import localMin\n",
        "from DataCleaner import localMax\n",
        "from DataCleaner import nextHigh\n",
        "from DataCleaner import nextLow\n",
        "from DataCleaner import previousHigh\n",
        "from DataCleaner import previousLow"
      ],
      "execution_count": 1,
      "outputs": [
        {
          "output_type": "stream",
          "name": "stdout",
          "text": "Hello World!\nBye\n"
        }
      ]
    },
    {
      "cell_type": "code",
      "execution_count": 2,
      "metadata": {
        "tags": []
      },
      "outputs": [
        {
          "output_type": "stream",
          "name": "stdout",
          "text": "Wall time: 1min 32s\n"
        }
      ],
      "source": [
        "%%time\n",
        "url= 'https://raw.githubusercontent.com/Mehrnoushhk/DeepLearning/master/GBPUSDm30.csv'\n",
        "data= pd.read_csv(url) \n",
        "data= dataCleaner(data)"
      ]
    },
    {
      "cell_type": "code",
      "execution_count": 7,
      "metadata": {
        "tags": []
      },
      "outputs": [
        {
          "output_type": "stream",
          "name": "stdout",
          "text": "Open     High      Low    Close  Volume     ID\nDate                                                                  \n2020-06-17 20:30:00  1.25498  1.25576  1.25487  1.25552    3469  43679\n2020-06-17 21:00:00  1.25553  1.25568  1.25482  1.25506    3536  43680\n2020-06-17 21:30:00  1.25505  1.25517  1.25451  1.25454    1284  43681\n"
        }
      ],
      "source": [
        "from IPython.display import clear_output\n",
        "print(data.head(n= 10))\n",
        "input(\"Press Enter to continue\")\n",
        "clear_output()\n",
        "print(data.tail(n=3))"
      ]
    },
    {
      "cell_type": "code",
      "execution_count": null,
      "metadata": {},
      "outputs": [],
      "source": []
    }
  ]
}