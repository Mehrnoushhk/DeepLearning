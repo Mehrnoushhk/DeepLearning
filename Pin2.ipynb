{
  "nbformat": 4,
  "nbformat_minor": 0,
  "metadata": {
    "colab": {
      "name": "Pin2.ipynb",
      "provenance": [],
      "authorship_tag": "ABX9TyOLWRNlKuFRRORRuxSONhJ4",
      "include_colab_link": true
    },
    "kernelspec": {
      "name": "python3",
      "display_name": "Python 3"
    }
  },
  "cells": [
    {
      "cell_type": "markdown",
      "metadata": {
        "id": "view-in-github",
        "colab_type": "text"
      },
      "source": [
        "<a href=\"https://colab.research.google.com/github/Mehrnoushhk/DeepLearning/blob/master/Pin2.ipynb\" target=\"_parent\"><img src=\"https://colab.research.google.com/assets/colab-badge.svg\" alt=\"Open In Colab\"/></a>"
      ]
    },
    {
      "cell_type": "code",
      "metadata": {
        "id": "kxeaSugxU_gT",
        "colab_type": "code",
        "colab": {}
      },
      "source": [
        "import numpy as np\n",
        "import pandas as pd\n",
        "url ='https://raw.githubusercontent.com/Mehrnoushhk/DeepLearning/master/GBPUSD%20-%201%20hour%20-%20RTH.csv'\n",
        "rawdata = pd.read_csv(url)"
      ],
      "execution_count": 0,
      "outputs": []
    },
    {
      "cell_type": "code",
      "metadata": {
        "colab_type": "code",
        "outputId": "9e102da6-0b7d-4683-e33f-2f8cbef9bbfa",
        "id": "T3_OoFInvHMC",
        "colab": {
          "base_uri": "https://localhost:8080/",
          "height": 195
        }
      },
      "source": [
        "rawdata.head()"
      ],
      "execution_count": 21,
      "outputs": [
        {
          "output_type": "execute_result",
          "data": {
            "text/html": [
              "<div>\n",
              "<style scoped>\n",
              "    .dataframe tbody tr th:only-of-type {\n",
              "        vertical-align: middle;\n",
              "    }\n",
              "\n",
              "    .dataframe tbody tr th {\n",
              "        vertical-align: top;\n",
              "    }\n",
              "\n",
              "    .dataframe thead th {\n",
              "        text-align: right;\n",
              "    }\n",
              "</style>\n",
              "<table border=\"1\" class=\"dataframe\">\n",
              "  <thead>\n",
              "    <tr style=\"text-align: right;\">\n",
              "      <th></th>\n",
              "      <th>date</th>\n",
              "      <th>open</th>\n",
              "      <th>high</th>\n",
              "      <th>low</th>\n",
              "      <th>close</th>\n",
              "      <th>volume</th>\n",
              "    </tr>\n",
              "  </thead>\n",
              "  <tbody>\n",
              "    <tr>\n",
              "      <th>0</th>\n",
              "      <td>20191211 003000</td>\n",
              "      <td>1.31899</td>\n",
              "      <td>1.32017</td>\n",
              "      <td>1.31538</td>\n",
              "      <td>1.31568</td>\n",
              "      <td>8471</td>\n",
              "    </tr>\n",
              "    <tr>\n",
              "      <th>1</th>\n",
              "      <td>20191211 013000</td>\n",
              "      <td>1.31568</td>\n",
              "      <td>1.31608</td>\n",
              "      <td>1.31077</td>\n",
              "      <td>1.31229</td>\n",
              "      <td>9768</td>\n",
              "    </tr>\n",
              "    <tr>\n",
              "      <th>2</th>\n",
              "      <td>20191211 023000</td>\n",
              "      <td>1.31229</td>\n",
              "      <td>1.31318</td>\n",
              "      <td>1.31127</td>\n",
              "      <td>1.31293</td>\n",
              "      <td>9689</td>\n",
              "    </tr>\n",
              "    <tr>\n",
              "      <th>3</th>\n",
              "      <td>20191211 033000</td>\n",
              "      <td>1.31293</td>\n",
              "      <td>1.31360</td>\n",
              "      <td>1.31273</td>\n",
              "      <td>1.31343</td>\n",
              "      <td>7603</td>\n",
              "    </tr>\n",
              "    <tr>\n",
              "      <th>4</th>\n",
              "      <td>20191211 043000</td>\n",
              "      <td>1.31343</td>\n",
              "      <td>1.31365</td>\n",
              "      <td>1.31301</td>\n",
              "      <td>1.31335</td>\n",
              "      <td>6958</td>\n",
              "    </tr>\n",
              "  </tbody>\n",
              "</table>\n",
              "</div>"
            ],
            "text/plain": [
              "              date     open     high      low    close  volume\n",
              "0  20191211 003000  1.31899  1.32017  1.31538  1.31568    8471\n",
              "1  20191211 013000  1.31568  1.31608  1.31077  1.31229    9768\n",
              "2  20191211 023000  1.31229  1.31318  1.31127  1.31293    9689\n",
              "3  20191211 033000  1.31293  1.31360  1.31273  1.31343    7603\n",
              "4  20191211 043000  1.31343  1.31365  1.31301  1.31335    6958"
            ]
          },
          "metadata": {
            "tags": []
          },
          "execution_count": 21
        }
      ]
    },
    {
      "cell_type": "code",
      "metadata": {
        "id": "ZvI-vkrYYqMQ",
        "colab_type": "code",
        "colab": {}
      },
      "source": [
        "# Body and Shadow calculation \n",
        "def candledim(ohlc):\n",
        "  o = ohlc[0]\n",
        "  h = ohlc[1]\n",
        "  l = ohlc[2]\n",
        "  c = ohlc[3]\n",
        "  if o  >= c:\n",
        "    candlebody = o - c\n",
        "    candleuppershadow = h - o\n",
        "    candlelowershadow = c - l\n",
        "  else:\n",
        "    candlebody = c - o\n",
        "    candleuppershadow = h - c\n",
        "    candlelowershadow = o - l\n",
        "  return candlebody, candleuppershadow, candlelowershadow"
      ],
      "execution_count": 0,
      "outputs": []
    },
    {
      "cell_type": "code",
      "metadata": {
        "id": "PlebHm9qbAig",
        "colab_type": "code",
        "colab": {
          "base_uri": "https://localhost:8080/",
          "height": 195
        },
        "outputId": "21bdf07f-dab1-4916-9f49-e34cd5c9cecd"
      },
      "source": [
        "#Adding dimentions to rawdata\n",
        "(m,n) = rawdata.shape\n",
        "body =[]\n",
        "ups =[]\n",
        "los = []\n",
        "for i in range(0, m):\n",
        "  ohlc = rawdata.iloc[i, 1:5]\n",
        "  bodytemp, upstemp, lostemp = candledim(ohlc)\n",
        "  body.append(bodytemp)\n",
        "  ups.append(upstemp)\n",
        "  los.append(lostemp)\n",
        "rawdata['body'] = body\n",
        "rawdata['ups'] = ups\n",
        "rawdata['los'] = los\n",
        "rawdata.head()\n"
      ],
      "execution_count": 23,
      "outputs": [
        {
          "output_type": "execute_result",
          "data": {
            "text/html": [
              "<div>\n",
              "<style scoped>\n",
              "    .dataframe tbody tr th:only-of-type {\n",
              "        vertical-align: middle;\n",
              "    }\n",
              "\n",
              "    .dataframe tbody tr th {\n",
              "        vertical-align: top;\n",
              "    }\n",
              "\n",
              "    .dataframe thead th {\n",
              "        text-align: right;\n",
              "    }\n",
              "</style>\n",
              "<table border=\"1\" class=\"dataframe\">\n",
              "  <thead>\n",
              "    <tr style=\"text-align: right;\">\n",
              "      <th></th>\n",
              "      <th>date</th>\n",
              "      <th>open</th>\n",
              "      <th>high</th>\n",
              "      <th>low</th>\n",
              "      <th>close</th>\n",
              "      <th>volume</th>\n",
              "      <th>body</th>\n",
              "      <th>ups</th>\n",
              "      <th>los</th>\n",
              "    </tr>\n",
              "  </thead>\n",
              "  <tbody>\n",
              "    <tr>\n",
              "      <th>0</th>\n",
              "      <td>20191211 003000</td>\n",
              "      <td>1.31899</td>\n",
              "      <td>1.32017</td>\n",
              "      <td>1.31538</td>\n",
              "      <td>1.31568</td>\n",
              "      <td>8471</td>\n",
              "      <td>0.00331</td>\n",
              "      <td>0.00118</td>\n",
              "      <td>0.00030</td>\n",
              "    </tr>\n",
              "    <tr>\n",
              "      <th>1</th>\n",
              "      <td>20191211 013000</td>\n",
              "      <td>1.31568</td>\n",
              "      <td>1.31608</td>\n",
              "      <td>1.31077</td>\n",
              "      <td>1.31229</td>\n",
              "      <td>9768</td>\n",
              "      <td>0.00339</td>\n",
              "      <td>0.00040</td>\n",
              "      <td>0.00152</td>\n",
              "    </tr>\n",
              "    <tr>\n",
              "      <th>2</th>\n",
              "      <td>20191211 023000</td>\n",
              "      <td>1.31229</td>\n",
              "      <td>1.31318</td>\n",
              "      <td>1.31127</td>\n",
              "      <td>1.31293</td>\n",
              "      <td>9689</td>\n",
              "      <td>0.00064</td>\n",
              "      <td>0.00025</td>\n",
              "      <td>0.00102</td>\n",
              "    </tr>\n",
              "    <tr>\n",
              "      <th>3</th>\n",
              "      <td>20191211 033000</td>\n",
              "      <td>1.31293</td>\n",
              "      <td>1.31360</td>\n",
              "      <td>1.31273</td>\n",
              "      <td>1.31343</td>\n",
              "      <td>7603</td>\n",
              "      <td>0.00050</td>\n",
              "      <td>0.00017</td>\n",
              "      <td>0.00020</td>\n",
              "    </tr>\n",
              "    <tr>\n",
              "      <th>4</th>\n",
              "      <td>20191211 043000</td>\n",
              "      <td>1.31343</td>\n",
              "      <td>1.31365</td>\n",
              "      <td>1.31301</td>\n",
              "      <td>1.31335</td>\n",
              "      <td>6958</td>\n",
              "      <td>0.00008</td>\n",
              "      <td>0.00022</td>\n",
              "      <td>0.00034</td>\n",
              "    </tr>\n",
              "  </tbody>\n",
              "</table>\n",
              "</div>"
            ],
            "text/plain": [
              "              date     open     high  ...     body      ups      los\n",
              "0  20191211 003000  1.31899  1.32017  ...  0.00331  0.00118  0.00030\n",
              "1  20191211 013000  1.31568  1.31608  ...  0.00339  0.00040  0.00152\n",
              "2  20191211 023000  1.31229  1.31318  ...  0.00064  0.00025  0.00102\n",
              "3  20191211 033000  1.31293  1.31360  ...  0.00050  0.00017  0.00020\n",
              "4  20191211 043000  1.31343  1.31365  ...  0.00008  0.00022  0.00034\n",
              "\n",
              "[5 rows x 9 columns]"
            ]
          },
          "metadata": {
            "tags": []
          },
          "execution_count": 23
        }
      ]
    }
  ]
}