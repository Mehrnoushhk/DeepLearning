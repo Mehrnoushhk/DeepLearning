{
  "cells": [
    {
      "cell_type": "markdown",
      "metadata": {
        "id": "view-in-github",
        "colab_type": "text"
      },
      "source": [
        "<a href=\"https://colab.research.google.com/github/Mehrnoushhk/DeepLearning/blob/master/PinAI.ipynb\" target=\"_parent\"><img src=\"https://colab.research.google.com/assets/colab-badge.svg\" alt=\"Open In Colab\"/></a>"
      ]
    },
    {
      "cell_type": "code",
      "metadata": {
        "id": "i2pdPTaWa-Tg",
        "colab_type": "code",
        "colab": {}
      },
      "source": [
        "import numpy as np\n",
        "import pandas as pd\n",
        "import datetime\n",
        "import mplfinance as mpl"
      ],
      "execution_count": null,
      "outputs": []
    },
    {
      "cell_type": "code",
      "execution_count": null,
      "metadata": {
        "tags": []
      },
      "outputs": [],
      "source": [
        "import DataCleaner\n",
        "from DataCleaner import dataCleaner\n",
        "from DataCleaner import localMin\n",
        "from DataCleaner import localMax\n",
        "from DataCleaner import nextHigh\n",
        "from DataCleaner import nextLow\n",
        "from DataCleaner import previousHigh\n",
        "from DataCleaner import previousLow\n",
        "from DataCleaner import nextTrend"
      ]
    },
    {
      "cell_type": "code",
      "metadata": {
        "id": "q80QfNU1OUft",
        "colab_type": "code",
        "colab": {},
        "tags": []
      },
      "source": [
        "%%time\n",
        "url= 'https://raw.githubusercontent.com/Mehrnoushhk/DeepLearning/master/GBPUSDm30.csv'\n",
        "data= pd.read_csv(url) \n",
        "data= dataCleaner(data)"
      ],
      "execution_count": null,
      "outputs": []
    },
    {
      "cell_type": "code",
      "metadata": {
        "id": "-7bEBrgvREDj",
        "colab_type": "code",
        "colab": {
          "base_uri": "https://localhost:8080/",
          "height": 54
        },
        "outputId": "dbee48c4-b58e-4148-8b47-63dc9a1a21db"
      },
      "source": [
        "#%%time\n",
        "dataMax, dataMaxValue= localMax(data, 4)\n",
        "dataMin, dataMinValue= localMin(data, 4)"
      ],
      "execution_count": null,
      "outputs": []
    },
    {
      "cell_type": "code",
      "metadata": {
        "id": "XT77uHBhRaSK",
        "colab_type": "code",
        "colab": {}
      },
      "source": [
        "data['isMax']= dataMax\n",
        "data['maxValue']= dataMaxValue\n",
        "data['isMin']= dataMin\n",
        "data['minValue']= dataMinValue"
      ],
      "execution_count": null,
      "outputs": []
    },
    {
      "cell_type": "code",
      "metadata": {
        "id": "ABYXFtRVJPHB",
        "colab_type": "code",
        "colab": {
          "base_uri": "https://localhost:8080/",
          "height": 35
        },
        "outputId": "a35e6c51-6b48-4b5c-a1f0-a27c1fece2a2"
      },
      "source": [
        "minMax= pd.DataFrame(list(zip(dataMinValue, dataMaxValue)), columns=['min', 'Max'])"
      ],
      "execution_count": null,
      "outputs": []
    },
    {
      "cell_type": "code",
      "metadata": {
        "id": "QF3OgnqQxO6j",
        "colab_type": "code",
        "colab": {
          "base_uri": "https://localhost:8080/",
          "height": 982
        },
        "outputId": "4d419e16-00fa-4ba5-99c9-ca599db42cce"
      },
      "source": [
        "adp= mpl.make_addplot(minMax[len(minMax)-100:], type= 'scatter', markersize= 200)\n",
        "mpl.plot(data.iloc[data.shape[0]-100: data.shape[0],:], type= 'candle', style= 'charles', figscale= 6, addplot= adp)"
      ],
      "execution_count": null,
      "outputs": []
    },
    {
      "cell_type": "code",
      "execution_count": null,
      "metadata": {},
      "outputs": [],
      "source": [
        "data['Trend']= np.NaN"
      ]
    },
    {
      "cell_type": "code",
      "execution_count": null,
      "metadata": {
        "tags": []
      },
      "outputs": [],
      "source": [
        "data= nextTrend(data)"
      ]
    },
    {
      "cell_type": "code",
      "execution_count": 31,
      "metadata": {},
      "outputs": [
        {
          "output_type": "execute_result",
          "data": {
            "text/plain": "Open        3457\nHigh        3457\nLow         3457\nClose       3457\nVolume      3457\nID          3457\nisMax       3457\nmaxValue      67\nisMin       3457\nminValue    3457\nTrend       3457\nUptrend      955\ndtype: int64"
          },
          "metadata": {},
          "execution_count": 31
        }
      ],
      "source": [
        "data[(data['isMin'] == True)].count()"
      ]
    },
    {
      "cell_type": "code",
      "execution_count": null,
      "metadata": {},
      "outputs": [],
      "source": [
        "data['Uptrend']= np.NaN\n",
        "j= data.columns.get_loc(\"Trend\")\n",
        "k= data.columns.get_loc('Uptrend')\n",
        "l= data.columns.get_loc('Low')\n",
        "for i in range(0, data.shape[0]):\n",
        "    if data.iloc[i, j] == 1:\n",
        "        data.iloc[i, k] = data.iloc[i, l]\n",
        "\n",
        "for i in range(80, 300):\n",
        "    if data.iloc[i, j] == 1:\n",
        "         adp= mpl.make_addplot(data.iloc[i-80:i+10, k], type= 'scatter', markersize= 200)\n",
        "         mpl.plot(data.iloc[i-80:i+10, :], type= 'candle', style= 'charles', figscale= 4, addplot= adp)"
      ]
    },
    {
      "cell_type": "code",
      "execution_count": null,
      "metadata": {},
      "outputs": [],
      "source": [
        "counter= 1\n",
        "for i in range(100, 200):\n",
        "    if data.iloc[i, trendid]== 1:\n",
        "        mpl.plot(data.iloc[i-100:i, :], type= 'candle', title= str(counter))\n",
        "        mpl.plot(data.iloc[i: i+10,:], type= 'candle', title= str(counter))\n",
        "        counter= counter+ 1"
      ]
    },
    {
      "cell_type": "code",
      "execution_count": null,
      "metadata": {
        "tags": []
      },
      "outputs": [],
      "source": [
        "pip install --upgrade mplfinance"
      ]
    },
    {
      "cell_type": "code",
      "execution_count": null,
      "metadata": {},
      "outputs": [],
      "source": []
    }
  ],
  "metadata": {
    "colab": {
      "name": "PinAI.ipynb",
      "provenance": [],
      "collapsed_sections": [],
      "authorship_tag": "ABX9TyOsV5Eat+0KYEmkQ4pgwrCp",
      "include_colab_link": true
    },
    "kernelspec": {
      "name": "python3",
      "display_name": "Python 3"
    }
  },
  "nbformat": 4,
  "nbformat_minor": 0
}