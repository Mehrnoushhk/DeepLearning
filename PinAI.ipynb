{
  "cells": [
    {
      "cell_type": "markdown",
      "metadata": {
        "id": "view-in-github",
        "colab_type": "text"
      },
      "source": [
        "<a href=\"https://colab.research.google.com/github/Mehrnoushhk/DeepLearning/blob/master/PinAI.ipynb\" target=\"_parent\"><img src=\"https://colab.research.google.com/assets/colab-badge.svg\" alt=\"Open In Colab\"/></a>"
      ]
    },
    {
      "cell_type": "code",
      "metadata": {
        "id": "i2pdPTaWa-Tg",
        "colab_type": "code",
        "colab": {}
      },
      "source": [
        "import numpy as np\n",
        "import pandas as pd\n",
        "import datetime\n",
        "import mplfinance as mpl"
      ],
      "execution_count": null,
      "outputs": []
    },
    {
      "cell_type": "code",
      "metadata": {
        "id": "q80QfNU1OUft",
        "colab_type": "code",
        "colab": {},
        "tags": []
      },
      "source": [
        "%%time\n",
        "import DataCleaner\n",
        "from DataCleaner import dataCleaner\n",
        "#url= 'https://raw.githubusercontent.com/Mehrnoushhk/DeepLearning/master/GBPUSDm30.csv'\n",
        "#data= pd.read_csv(url) \n",
        "data= pd.read_csv('C:\\\\Users\\\\Maryam-Goli\\\\Documents\\\\GitHub\\\\DeepLearning\\\\GBPUSDm30.csv', skiprows= 28000)\n",
        "data= dataCleaner(data)"
      ],
      "execution_count": null,
      "outputs": []
    },
    {
      "cell_type": "code",
      "metadata": {
        "id": "-7bEBrgvREDj",
        "colab_type": "code",
        "colab": {
          "base_uri": "https://localhost:8080/",
          "height": 54
        },
        "outputId": "dbee48c4-b58e-4148-8b47-63dc9a1a21db",
        "tags": []
      },
      "source": [
        "%%time\n",
        "from DataCleaner import localMin\n",
        "from DataCleaner import localMax\n",
        "data= localMin(data, 4)\n",
        "data= localMax(data, 4)"
      ],
      "execution_count": null,
      "outputs": []
    },
    {
      "cell_type": "code",
      "metadata": {
        "id": "QF3OgnqQxO6j",
        "colab_type": "code",
        "colab": {
          "base_uri": "https://localhost:8080/",
          "height": 982
        },
        "outputId": "4d419e16-00fa-4ba5-99c9-ca599db42cce"
      },
      "source": [
        "minMax= data[['minValue', 'maxValue']]\n",
        "adp= mpl.make_addplot(minMax[len(minMax)-200:], type= 'scatter', markersize= 200)\n",
        "mpl.plot(data.iloc[data.shape[0]-200: data.shape[0],:], type= 'candle', style= 'charles', figscale= 6, addplot= adp, axisoff= True)"
      ],
      "execution_count": null,
      "outputs": []
    },
    {
      "cell_type": "code",
      "execution_count": null,
      "metadata": {
        "tags": []
      },
      "outputs": [],
      "source": [
        "columnsNames= data.columns\n",
        "data = data.reindex(columns = data.columns.tolist() + ['Trend', 'TrendValue'])"
      ]
    },
    {
      "cell_type": "code",
      "execution_count": null,
      "metadata": {
        "tags": []
      },
      "outputs": [],
      "source": [
        "%%time\n",
        "from DataCleaner import nextTrend\n",
        "data= nextTrend(data)"
      ]
    },
    {
      "cell_type": "code",
      "execution_count": null,
      "metadata": {},
      "outputs": [],
      "source": [
        "adp= mpl.make_addplot(data.iloc[data.shape[0]-200:, 11], type= 'scatter', markersize= 200)\n",
        "mpl.plot(data.iloc[data.shape[0]-200: data.shape[0],:], type= 'candle', style= 'charles', figscale=6, addplot= adp, axisoff= True)"
      ]
    },
    {
      "cell_type": "code",
      "execution_count": null,
      "metadata": {},
      "outputs": [],
      "source": [
        "data.loc[data['Trend'] == -1].count()"
      ]
    },
    {
      "cell_type": "code",
      "execution_count": null,
      "metadata": {},
      "outputs": [],
      "source": [
        "%%time\n",
        "j= data.columns.get_loc('Trend')\n",
        "correction_counter= 1\n",
        "uptrend_counter= 1\n",
        "downtrend_counter= 1\n",
        "for k in range (200, data.shape[0], 100):\n",
        "    for i in range(100, k):\n",
        "        if data.iloc[i,j] == 1:\n",
        "            upname= 'C:\\\\Users\\\\Maryam-Goli\\\\Documents\\\\CNNGBP\\\\UpTrend\\\\'+'Uptrend'+ str(uptrend_counter)+ '.png'\n",
        "            mpl.plot(data.iloc[i-100:i, :], type= 'candle', style= 'charles', axisoff= True, savefig= upname)\n",
        "            uptrend_counter = uptrend_counter+ 1\n",
        "        elif data.iloc[i,j] == 0:\n",
        "            corname= 'C:\\\\Users\\\\Maryam-Goli\\\\Documents\\\\CNNGBP\\\\Consolidation\\\\'+'Consolidation'+ str(correction_counter)+ '.png'\n",
        "            mpl.plot(data.iloc[i-100:i, :], type= 'candle', style= 'charles', axisoff= True, savefig= corname)\n",
        "            correction_counter= correction_counter+ 1\n",
        "        elif data.iloc[i, j] == -1:\n",
        "            downname= 'C:\\\\Users\\\\Maryam-Goli\\\\Documents\\\\CNNGBP\\\\DownTrend\\\\'+'Downtrend'+ str(downtrend_counter)+ '.png'\n",
        "            mpl.plot(data.iloc[i-100:i, :], type= 'candle', style= 'charles', axisoff= True, savefig= downname)\n",
        "            downtrend_counter = downtrend_counter+ 1\n",
        " "
      ]
    },
    {
      "cell_type": "code",
      "execution_count": null,
      "metadata": {},
      "outputs": [],
      "source": [
        "rcparams = {'axes.spines.bottom':False,\n",
        "            'axes.spines.left':False,\n",
        "            'axes.spines.right':False,\n",
        "            'axes.spines.top':False,\n",
        "            'axisoff': True\n",
        "            }\n",
        "myStyle= mpl.make_mpf_style(base_mpf_style= 'charles', gridcolor= 'white', rc= rcparams)\n",
        "mpl.plot(upTrend.iloc[0:100,:], type= 'candle', style= myStyle)"
      ]
    },
    {
      "cell_type": "code",
      "execution_count": null,
      "metadata": {},
      "outputs": [],
      "source": [
        "data['Uptrend']= np.NaN\n",
        "j= data.columns.get_loc(\"Trend\")\n",
        "k= data.columns.get_loc('Uptrend')\n",
        "l= data.columns.get_loc('Low')\n",
        "for i in range(0, data.shape[0]):\n",
        "    if data.iloc[i, j] == 1:\n",
        "        data.iloc[i, k] = data.iloc[i, l]\n",
        "\n",
        "for i in range(80, 300):\n",
        "    if data.iloc[i, j] == 1:\n",
        "         adp= mpl.make_addplot(data.iloc[i-80:i+10, k], type= 'scatter', markersize= 200)\n",
        "         mpl.plot(data.iloc[i-80:i+10, :], type= 'candle', style= 'charles', figscale= 4, addplot= adp)"
      ]
    },
    {
      "cell_type": "code",
      "execution_count": null,
      "metadata": {},
      "outputs": [],
      "source": [
        "counter= 1\n",
        "for i in range(100, 200):\n",
        "    if data.iloc[i, trendid]== 1:\n",
        "        mpl.plot(data.iloc[i-100:i, :], type= 'candle', title= str(counter))\n",
        "        mpl.plot(data.iloc[i: i+10,:], type= 'candle', title= str(counter))\n",
        "        counter= counter+ 1"
      ]
    },
    {
      "cell_type": "code",
      "execution_count": null,
      "metadata": {
        "tags": []
      },
      "outputs": [],
      "source": [
        "pip install --upgrade mplfinance"
      ]
    },
    {
      "cell_type": "code",
      "execution_count": null,
      "metadata": {},
      "outputs": [],
      "source": []
    }
  ],
  "metadata": {
    "colab": {
      "name": "PinAI.ipynb",
      "provenance": [],
      "collapsed_sections": [],
      "authorship_tag": "ABX9TyOsV5Eat+0KYEmkQ4pgwrCp",
      "include_colab_link": true
    },
    "kernelspec": {
      "name": "python3",
      "display_name": "Python 3"
    }
  },
  "nbformat": 4,
  "nbformat_minor": 0
}